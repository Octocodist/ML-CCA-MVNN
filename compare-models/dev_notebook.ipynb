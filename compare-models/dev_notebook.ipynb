{
 "cells": [
  {
   "cell_type": "code",
   "execution_count": 13,
   "id": "initial_id",
   "metadata": {
    "collapsed": true,
    "ExecuteTime": {
     "end_time": "2023-11-07T14:18:54.309362631Z",
     "start_time": "2023-11-07T14:18:54.151486463Z"
    }
   },
   "outputs": [],
   "source": [
    "import itertools\n",
    "import numpy as np"
   ]
  },
  {
   "cell_type": "code",
   "execution_count": 6,
   "outputs": [],
   "source": [
    "M = [1, 2, 3]\n",
    "bundle_space = list(itertools.product([0, 1], repeat=len(M)))\n"
   ],
   "metadata": {
    "collapsed": false,
    "ExecuteTime": {
     "end_time": "2023-11-07T13:56:58.151070756Z",
     "start_time": "2023-11-07T13:56:58.143593164Z"
    }
   },
   "id": "738869c7e472419c"
  },
  {
   "cell_type": "code",
   "execution_count": 7,
   "outputs": [
    {
     "name": "stdout",
     "output_type": "stream",
     "text": [
      "[(0, 0, 0), (0, 0, 1), (0, 1, 0), (0, 1, 1), (1, 0, 0), (1, 0, 1), (1, 1, 0), (1, 1, 1)]\n"
     ]
    }
   ],
   "source": [
    "print(bundle_space)"
   ],
   "metadata": {
    "collapsed": false,
    "ExecuteTime": {
     "end_time": "2023-11-07T13:56:59.487320310Z",
     "start_time": "2023-11-07T13:56:59.478030056Z"
    }
   },
   "id": "e39d3b76324fbad3"
  },
  {
   "cell_type": "code",
   "execution_count": 12,
   "outputs": [
    {
     "data": {
      "text/plain": "[[0, 0, 0, '!p'],\n [0, 0, 1, '!p'],\n [0, 1, 0, '!p'],\n [0, 1, 1, '!p'],\n [1, 0, 0, '!p'],\n [1, 0, 1, '!p'],\n [1, 1, 0, '!p'],\n [1, 1, 1, '!p']]"
     },
     "execution_count": 12,
     "metadata": {},
     "output_type": "execute_result"
    }
   ],
   "source": [
    "[list(x) + [\"!p\"] for x in bundle_space]"
   ],
   "metadata": {
    "collapsed": false,
    "ExecuteTime": {
     "end_time": "2023-11-07T14:18:32.455034754Z",
     "start_time": "2023-11-07T14:18:32.412178500Z"
    }
   },
   "id": "4c6bb900a84b4472"
  },
  {
   "cell_type": "markdown",
   "source": [],
   "metadata": {
    "collapsed": false
   },
   "id": "945c3cabbfd90115"
  },
  {
   "cell_type": "code",
   "execution_count": 22,
   "outputs": [
    {
     "name": "stdout",
     "output_type": "stream",
     "text": [
      "[[0 0 1]\n",
      " [0 1 1]\n",
      " [1 0 1]]\n"
     ]
    }
   ],
   "source": [
    "k = 3\n",
    "bundle_space = [np.random.choice([0, 1], len(M)) for _ in range(k)]\n",
    "bundle_space = np.unique(np.array(bundle_space), axis=0)\n",
    "print(bundle_space)\n"
   ],
   "metadata": {
    "collapsed": false,
    "ExecuteTime": {
     "end_time": "2023-11-07T14:20:29.858142532Z",
     "start_time": "2023-11-07T14:20:29.849988550Z"
    }
   },
   "id": "bb23017c4d8f2d94"
  },
  {
   "cell_type": "code",
   "execution_count": 29,
   "outputs": [],
   "source": [
    "import pickle\n",
    "dataset=\"lsvm\"\n",
    "bidder_id=3\n",
    "nbids=20\n",
    "filepath = \"./dataset_generation/datasets/\"+ str(dataset)+\"/\"+str(dataset)+\"_\"+str(bidder_id)+\"_\"+str(nbids)+\".pkl\"\n",
    "with open(filepath, \"rb\") as file:\n",
    "    dataset = pickle.load(file)\n",
    "#split dataset into train and test\n",
    "if dataset == \"gsvm\":\n",
    "    N = 7\n",
    "    M = 18\n",
    "if dataset == \"lsvm\":\n",
    "    N = 6\n",
    "    M = 18\n",
    "    \n",
    "    \n"
   ],
   "metadata": {
    "collapsed": false,
    "ExecuteTime": {
     "end_time": "2023-11-07T16:33:25.213907295Z",
     "start_time": "2023-11-07T16:33:24.638332238Z"
    }
   },
   "id": "2b96d0c425a571b8"
  },
  {
   "cell_type": "code",
   "execution_count": 36,
   "outputs": [
    {
     "name": "stdout",
     "output_type": "stream",
     "text": [
      "262144\n"
     ]
    },
    {
     "data": {
      "text/plain": "262144"
     },
     "execution_count": 36,
     "metadata": {},
     "output_type": "execute_result"
    }
   ],
   "source": [
    "print(len(dataset[0]))\n",
    "len(dataset[1])"
   ],
   "metadata": {
    "collapsed": false,
    "ExecuteTime": {
     "end_time": "2023-11-07T16:34:50.293611310Z",
     "start_time": "2023-11-07T16:34:50.248551166Z"
    }
   },
   "id": "6e917ec8f1d3f426"
  },
  {
   "cell_type": "code",
   "execution_count": 37,
   "outputs": [
    {
     "name": "stdout",
     "output_type": "stream",
     "text": [
      "(0, 0, 0, 0, 0, 0, 0, 0, 0, 0, 0, 0, 0, 0, 0, 0, 0, 0)\n"
     ]
    }
   ],
   "source": [
    "print(dataset[0][0])"
   ],
   "metadata": {
    "collapsed": false,
    "ExecuteTime": {
     "end_time": "2023-11-07T16:35:58.249578974Z",
     "start_time": "2023-11-07T16:35:58.202388936Z"
    }
   },
   "id": "b6f4b9d101c9b20b"
  },
  {
   "cell_type": "code",
   "execution_count": 38,
   "outputs": [
    {
     "name": "stdout",
     "output_type": "stream",
     "text": [
      "[0.0, 0.0, 0.0, 0.0, 0.0, 0.0]\n"
     ]
    }
   ],
   "source": [
    "print(dataset[1][0])"
   ],
   "metadata": {
    "collapsed": false,
    "ExecuteTime": {
     "end_time": "2023-11-07T16:36:01.996561061Z",
     "start_time": "2023-11-07T16:36:01.901439018Z"
    }
   },
   "id": "15be85c205d34981"
  },
  {
   "cell_type": "code",
   "execution_count": 41,
   "outputs": [
    {
     "name": "stdout",
     "output_type": "stream",
     "text": [
      "(0, 0, 0, 0, 0, 0, 0, 0, 0, 0, 0, 1, 1, 0, 0, 1, 0, 0)\n"
     ]
    }
   ],
   "source": [
    "print(dataset[0][100])"
   ],
   "metadata": {
    "collapsed": false,
    "ExecuteTime": {
     "end_time": "2023-11-07T16:36:19.528318985Z",
     "start_time": "2023-11-07T16:36:19.512780937Z"
    }
   },
   "id": "86a67cc9279c0928"
  },
  {
   "cell_type": "code",
   "execution_count": 42,
   "outputs": [
    {
     "name": "stdout",
     "output_type": "stream",
     "text": [
      "[24.301122061386828, 14.278913909960313, 22.16300887054362, 19.41352284555659, 25.620134861435606, 31.325488184990274]\n"
     ]
    }
   ],
   "source": [
    "print(dataset[1][100])"
   ],
   "metadata": {
    "collapsed": false,
    "ExecuteTime": {
     "end_time": "2023-11-07T16:36:25.681145745Z",
     "start_time": "2023-11-07T16:36:25.657460717Z"
    }
   },
   "id": "48dc60a93e14270f"
  },
  {
   "cell_type": "code",
   "execution_count": 46,
   "outputs": [],
   "source": [
    "from sklearn.model_selection import train_test_split\n",
    "X = dataset[0]\n",
    "y = dataset[1]\n",
    "train_percent = 0.8\n",
    "X_train, test_and_val_X, y_train, test_and_val_y = train_test_split(X, y, test_size=train_percent, random_state=1)\n",
    "X_val, X_test, y_val, y_test = train_test_split(test_and_val_X,test_and_val_y, test_size=0.5, random_state=1)\n"
   ],
   "metadata": {
    "collapsed": false,
    "ExecuteTime": {
     "end_time": "2023-11-07T17:22:00.067142204Z",
     "start_time": "2023-11-07T17:21:59.862646990Z"
    }
   },
   "id": "cd54d74a038f8627"
  },
  {
   "cell_type": "code",
   "execution_count": 61,
   "outputs": [
    {
     "name": "stdout",
     "output_type": "stream",
     "text": [
      "262144\n",
      "18\n",
      "18\n",
      "6\n",
      "52428\n"
     ]
    },
    {
     "ename": "AttributeError",
     "evalue": "'list' object has no attribute 'type'",
     "output_type": "error",
     "traceback": [
      "\u001B[0;31m---------------------------------------------------------------------------\u001B[0m",
      "\u001B[0;31mAttributeError\u001B[0m                            Traceback (most recent call last)",
      "Cell \u001B[0;32mIn[61], line 7\u001B[0m\n\u001B[1;32m      5\u001B[0m \u001B[38;5;28mprint\u001B[39m(\u001B[38;5;28mlen\u001B[39m(y_train[\u001B[38;5;241m0\u001B[39m]))\n\u001B[1;32m      6\u001B[0m \u001B[38;5;28mprint\u001B[39m(\u001B[38;5;28mlen\u001B[39m(y_train))\n\u001B[0;32m----> 7\u001B[0m \u001B[38;5;28mprint\u001B[39m(\u001B[38;5;28mlen\u001B[39m(\u001B[43mX_train\u001B[49m\u001B[38;5;241;43m.\u001B[39;49m\u001B[43mtype\u001B[49m))\n",
      "\u001B[0;31mAttributeError\u001B[0m: 'list' object has no attribute 'type'"
     ]
    }
   ],
   "source": [
    "#print(X_train)\n",
    "print(len(X))\n",
    "print(len(X[0]))\n",
    "print(len(X_train[0]))\n",
    "print(len(y_train[0]))\n",
    "print(len(y_train))\n",
    "print(len(X_train.type))\n"
   ],
   "metadata": {
    "collapsed": false,
    "ExecuteTime": {
     "end_time": "2023-11-07T17:40:16.822455375Z",
     "start_time": "2023-11-07T17:40:16.809670023Z"
    }
   },
   "id": "bf76fbf86c71e698"
  },
  {
   "cell_type": "code",
   "execution_count": 64,
   "outputs": [
    {
     "name": "stdout",
     "output_type": "stream",
     "text": [
      "torch.Size([52428, 18])\n"
     ]
    }
   ],
   "source": [
    "import torch\n",
    "X_train_tensor = torch.FloatTensor(X_train).float()\n",
    "y_train_tensor = torch.FloatTensor(y_train).float()\n",
    "X_val_tensor = torch.FloatTensor(X_val).float()\n",
    "y_val_tensor = torch.FloatTensor(y_val).float()\n",
    "print(X_train_tensor.shape)"
   ],
   "metadata": {
    "collapsed": false,
    "ExecuteTime": {
     "end_time": "2023-11-07T17:44:34.695310709Z",
     "start_time": "2023-11-07T17:44:34.272877204Z"
    }
   },
   "id": "17bc49398bf9234b"
  },
  {
   "cell_type": "code",
   "execution_count": 88,
   "outputs": [
    {
     "name": "stdout",
     "output_type": "stream",
     "text": [
      "torch.Size([4, 18])\n"
     ]
    }
   ],
   "source": [
    "batch_size = 4\n",
    "train_loader = torch.utils.data.DataLoader(X_train_tensor, batch_size=batch_size, shuffle=True)\n",
    "\n",
    "for batch in train_loader:\n",
    "    print(batch.shape)\n",
    "    break\n"
   ],
   "metadata": {
    "collapsed": false,
    "ExecuteTime": {
     "end_time": "2023-11-07T18:04:59.277907757Z",
     "start_time": "2023-11-07T18:04:59.260929677Z"
    }
   },
   "id": "cfe51c172f13ea42"
  },
  {
   "cell_type": "code",
   "execution_count": 93,
   "outputs": [
    {
     "name": "stdout",
     "output_type": "stream",
     "text": [
      "torch.Size([4])\n"
     ]
    }
   ],
   "source": [
    "from torch.utils.data import TensorDataset \n",
    "train = TensorDataset(X_train_tensor, y_train_tensor)\n",
    "\n",
    "train_loaderr = torch.utils.data.DataLoader(train, batch_size=batch_size, shuffle=True)\n",
    "\n",
    "for batch in train_loaderr:\n",
    "    print(batch[1][:,1].shape)\n",
    "    break\n"
   ],
   "metadata": {
    "collapsed": false,
    "ExecuteTime": {
     "end_time": "2023-11-07T18:19:48.082566145Z",
     "start_time": "2023-11-07T18:19:48.048861250Z"
    }
   },
   "id": "2ab22b219f2e7385"
  },
  {
   "cell_type": "code",
   "execution_count": 83,
   "outputs": [
    {
     "data": {
      "text/plain": "torch.Size([6])"
     },
     "execution_count": 83,
     "metadata": {},
     "output_type": "execute_result"
    }
   ],
   "source": [
    "train[0][1]"
   ],
   "metadata": {
    "collapsed": false,
    "ExecuteTime": {
     "end_time": "2023-11-07T18:00:31.942758694Z",
     "start_time": "2023-11-07T18:00:31.936755884Z"
    }
   },
   "id": "e3df7d8d6b8d59e0"
  },
  {
   "cell_type": "code",
   "execution_count": null,
   "outputs": [],
   "source": [],
   "metadata": {
    "collapsed": false
   },
   "id": "5cfed1ee2d0b1e39"
  }
 ],
 "metadata": {
  "kernelspec": {
   "display_name": "Python 3",
   "language": "python",
   "name": "python3"
  },
  "language_info": {
   "codemirror_mode": {
    "name": "ipython",
    "version": 2
   },
   "file_extension": ".py",
   "mimetype": "text/x-python",
   "name": "python",
   "nbconvert_exporter": "python",
   "pygments_lexer": "ipython2",
   "version": "2.7.6"
  }
 },
 "nbformat": 4,
 "nbformat_minor": 5
}
