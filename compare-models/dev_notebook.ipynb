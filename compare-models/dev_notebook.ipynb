{
 "cells": [
  {
   "cell_type": "code",
   "execution_count": 1,
   "id": "initial_id",
   "metadata": {
    "collapsed": true,
    "ExecuteTime": {
     "end_time": "2023-11-08T14:44:47.675746449Z",
     "start_time": "2023-11-08T14:44:47.590003954Z"
    }
   },
   "outputs": [],
   "source": [
    "import itertools\n",
    "import numpy as np"
   ]
  },
  {
   "cell_type": "code",
   "execution_count": 6,
   "outputs": [],
   "source": [
    "M = [1, 2, 3]\n",
    "bundle_space = list(itertools.product([0, 1], repeat=len(M)))\n"
   ],
   "metadata": {
    "collapsed": false,
    "ExecuteTime": {
     "end_time": "2023-11-07T13:56:58.151070756Z",
     "start_time": "2023-11-07T13:56:58.143593164Z"
    }
   },
   "id": "738869c7e472419c"
  },
  {
   "cell_type": "code",
   "execution_count": 7,
   "outputs": [
    {
     "name": "stdout",
     "output_type": "stream",
     "text": [
      "[(0, 0, 0), (0, 0, 1), (0, 1, 0), (0, 1, 1), (1, 0, 0), (1, 0, 1), (1, 1, 0), (1, 1, 1)]\n"
     ]
    }
   ],
   "source": [
    "print(bundle_space)"
   ],
   "metadata": {
    "collapsed": false,
    "ExecuteTime": {
     "end_time": "2023-11-07T13:56:59.487320310Z",
     "start_time": "2023-11-07T13:56:59.478030056Z"
    }
   },
   "id": "e39d3b76324fbad3"
  },
  {
   "cell_type": "code",
   "execution_count": 12,
   "outputs": [
    {
     "data": {
      "text/plain": "[[0, 0, 0, '!p'],\n [0, 0, 1, '!p'],\n [0, 1, 0, '!p'],\n [0, 1, 1, '!p'],\n [1, 0, 0, '!p'],\n [1, 0, 1, '!p'],\n [1, 1, 0, '!p'],\n [1, 1, 1, '!p']]"
     },
     "execution_count": 12,
     "metadata": {},
     "output_type": "execute_result"
    }
   ],
   "source": [
    "[list(x) + [\"!p\"] for x in bundle_space]"
   ],
   "metadata": {
    "collapsed": false,
    "ExecuteTime": {
     "end_time": "2023-11-07T14:18:32.455034754Z",
     "start_time": "2023-11-07T14:18:32.412178500Z"
    }
   },
   "id": "4c6bb900a84b4472"
  },
  {
   "cell_type": "markdown",
   "source": [],
   "metadata": {
    "collapsed": false
   },
   "id": "945c3cabbfd90115"
  },
  {
   "cell_type": "code",
   "execution_count": 22,
   "outputs": [
    {
     "name": "stdout",
     "output_type": "stream",
     "text": [
      "[[0 0 1]\n",
      " [0 1 1]\n",
      " [1 0 1]]\n"
     ]
    }
   ],
   "source": [
    "k = 3\n",
    "bundle_space = [np.random.choice([0, 1], len(M)) for _ in range(k)]\n",
    "bundle_space = np.unique(np.array(bundle_space), axis=0)\n",
    "print(bundle_space)\n"
   ],
   "metadata": {
    "collapsed": false,
    "ExecuteTime": {
     "end_time": "2023-11-07T14:20:29.858142532Z",
     "start_time": "2023-11-07T14:20:29.849988550Z"
    }
   },
   "id": "bb23017c4d8f2d94"
  },
  {
   "cell_type": "code",
   "execution_count": 3,
   "outputs": [
    {
     "name": "stdout",
     "output_type": "stream",
     "text": [
      "sucess!\n"
     ]
    }
   ],
   "source": [
    "import pickle\n",
    "dataset=\"srvm\"\n",
    "bidder_id=1\n",
    "nbids=25000\n",
    "filepath = \"./dataset_generation/datasets/\"+ str(dataset)+\"/\"+str(dataset)+\"_\"+str(bidder_id)+\"_\"+str(nbids)+\".pkl\"\n",
    "with open(filepath, \"rb\") as file:\n",
    "    dataset = pickle.load(file)\n",
    "#split dataset into train and test\n",
    "if dataset == \"gsvm\":\n",
    "    N = 7\n",
    "    M = 18\n",
    "if dataset == \"lsvm\":\n",
    "    N = 6\n",
    "    M = 18\n",
    "print(\"sucess!\") \n",
    "    \n"
   ],
   "metadata": {
    "collapsed": false,
    "ExecuteTime": {
     "end_time": "2023-11-08T14:45:29.234001502Z",
     "start_time": "2023-11-08T14:45:29.220575760Z"
    }
   },
   "id": "2b96d0c425a571b8"
  },
  {
   "cell_type": "code",
   "execution_count": 4,
   "outputs": [
    {
     "name": "stdout",
     "output_type": "stream",
     "text": [
      "8\n"
     ]
    },
    {
     "data": {
      "text/plain": "8"
     },
     "execution_count": 4,
     "metadata": {},
     "output_type": "execute_result"
    }
   ],
   "source": [
    "print(len(dataset[0]))\n",
    "len(dataset[1])"
   ],
   "metadata": {
    "collapsed": false,
    "ExecuteTime": {
     "end_time": "2023-11-08T14:45:32.125859947Z",
     "start_time": "2023-11-08T14:45:32.118457253Z"
    }
   },
   "id": "6e917ec8f1d3f426"
  },
  {
   "cell_type": "code",
   "execution_count": 5,
   "outputs": [
    {
     "name": "stdout",
     "output_type": "stream",
     "text": [
      "(0, 0, 0)\n"
     ]
    }
   ],
   "source": [
    "print(dataset[0][0])"
   ],
   "metadata": {
    "collapsed": false,
    "ExecuteTime": {
     "end_time": "2023-11-08T14:45:35.969096543Z",
     "start_time": "2023-11-08T14:45:35.964359219Z"
    }
   },
   "id": "b6f4b9d101c9b20b"
  },
  {
   "cell_type": "code",
   "execution_count": 6,
   "outputs": [
    {
     "name": "stdout",
     "output_type": "stream",
     "text": [
      "[0.0, 0.0, 0.0, 0.0, 0.0, 0.0, 0.0]\n"
     ]
    }
   ],
   "source": [
    "print(dataset[1][0])"
   ],
   "metadata": {
    "collapsed": false,
    "ExecuteTime": {
     "end_time": "2023-11-08T14:45:37.169441194Z",
     "start_time": "2023-11-08T14:45:37.155944821Z"
    }
   },
   "id": "15be85c205d34981"
  },
  {
   "cell_type": "code",
   "execution_count": 7,
   "outputs": [
    {
     "ename": "IndexError",
     "evalue": "list index out of range",
     "output_type": "error",
     "traceback": [
      "\u001B[0;31m---------------------------------------------------------------------------\u001B[0m",
      "\u001B[0;31mIndexError\u001B[0m                                Traceback (most recent call last)",
      "Cell \u001B[0;32mIn[7], line 1\u001B[0m\n\u001B[0;32m----> 1\u001B[0m \u001B[38;5;28mprint\u001B[39m(\u001B[43mdataset\u001B[49m\u001B[43m[\u001B[49m\u001B[38;5;241;43m0\u001B[39;49m\u001B[43m]\u001B[49m\u001B[43m[\u001B[49m\u001B[38;5;241;43m100\u001B[39;49m\u001B[43m]\u001B[49m)\n",
      "\u001B[0;31mIndexError\u001B[0m: list index out of range"
     ]
    }
   ],
   "source": [
    "print(dataset[0][100])"
   ],
   "metadata": {
    "collapsed": false,
    "ExecuteTime": {
     "end_time": "2023-11-08T14:45:38.162076805Z",
     "start_time": "2023-11-08T14:45:37.955483576Z"
    }
   },
   "id": "86a67cc9279c0928"
  },
  {
   "cell_type": "code",
   "execution_count": 8,
   "outputs": [
    {
     "ename": "IndexError",
     "evalue": "list index out of range",
     "output_type": "error",
     "traceback": [
      "\u001B[0;31m---------------------------------------------------------------------------\u001B[0m",
      "\u001B[0;31mIndexError\u001B[0m                                Traceback (most recent call last)",
      "Cell \u001B[0;32mIn[8], line 1\u001B[0m\n\u001B[0;32m----> 1\u001B[0m \u001B[38;5;28mprint\u001B[39m(\u001B[43mdataset\u001B[49m\u001B[43m[\u001B[49m\u001B[38;5;241;43m1\u001B[39;49m\u001B[43m]\u001B[49m\u001B[43m[\u001B[49m\u001B[38;5;241;43m100\u001B[39;49m\u001B[43m]\u001B[49m)\n",
      "\u001B[0;31mIndexError\u001B[0m: list index out of range"
     ]
    }
   ],
   "source": [
    "print(dataset[1][100])"
   ],
   "metadata": {
    "collapsed": false,
    "ExecuteTime": {
     "end_time": "2023-11-08T14:45:39.838341180Z",
     "start_time": "2023-11-08T14:45:39.823703193Z"
    }
   },
   "id": "48dc60a93e14270f"
  },
  {
   "cell_type": "code",
   "execution_count": 9,
   "outputs": [],
   "source": [
    "from sklearn.model_selection import train_test_split\n",
    "X = dataset[0]\n",
    "y = dataset[1]\n",
    "train_percent = 0.8\n",
    "X_train, test_and_val_X, y_train, test_and_val_y = train_test_split(X, y, test_size=train_percent, random_state=1)\n",
    "X_val, X_test, y_val, y_test = train_test_split(test_and_val_X,test_and_val_y, test_size=0.5, random_state=1)\n"
   ],
   "metadata": {
    "collapsed": false,
    "ExecuteTime": {
     "end_time": "2023-11-08T14:45:41.294366683Z",
     "start_time": "2023-11-08T14:45:40.853665226Z"
    }
   },
   "id": "cd54d74a038f8627"
  },
  {
   "cell_type": "code",
   "execution_count": 10,
   "outputs": [
    {
     "name": "stdout",
     "output_type": "stream",
     "text": [
      "8\n",
      "3\n",
      "3\n",
      "7\n",
      "1\n"
     ]
    },
    {
     "ename": "AttributeError",
     "evalue": "'list' object has no attribute 'type'",
     "output_type": "error",
     "traceback": [
      "\u001B[0;31m---------------------------------------------------------------------------\u001B[0m",
      "\u001B[0;31mAttributeError\u001B[0m                            Traceback (most recent call last)",
      "Cell \u001B[0;32mIn[10], line 7\u001B[0m\n\u001B[1;32m      5\u001B[0m \u001B[38;5;28mprint\u001B[39m(\u001B[38;5;28mlen\u001B[39m(y_train[\u001B[38;5;241m0\u001B[39m]))\n\u001B[1;32m      6\u001B[0m \u001B[38;5;28mprint\u001B[39m(\u001B[38;5;28mlen\u001B[39m(y_train))\n\u001B[0;32m----> 7\u001B[0m \u001B[38;5;28mprint\u001B[39m(\u001B[38;5;28mlen\u001B[39m(\u001B[43mX_train\u001B[49m\u001B[38;5;241;43m.\u001B[39;49m\u001B[43mtype\u001B[49m))\n",
      "\u001B[0;31mAttributeError\u001B[0m: 'list' object has no attribute 'type'"
     ]
    }
   ],
   "source": [
    "#print(X_train)\n",
    "print(len(X))\n",
    "print(len(X[0]))\n",
    "print(len(X_train[0]))\n",
    "print(len(y_train[0]))\n",
    "print(len(y_train))\n",
    "print(len(X_train.type))\n"
   ],
   "metadata": {
    "collapsed": false,
    "ExecuteTime": {
     "end_time": "2023-11-08T14:45:44.741401929Z",
     "start_time": "2023-11-08T14:45:44.685273813Z"
    }
   },
   "id": "bf76fbf86c71e698"
  },
  {
   "cell_type": "code",
   "execution_count": 11,
   "outputs": [
    {
     "name": "stdout",
     "output_type": "stream",
     "text": [
      "torch.Size([1, 3])\n"
     ]
    }
   ],
   "source": [
    "import torch\n",
    "X_train_tensor = torch.FloatTensor(X_train).float()\n",
    "y_train_tensor = torch.FloatTensor(y_train).float()\n",
    "X_val_tensor = torch.FloatTensor(X_val).float()\n",
    "y_val_tensor = torch.FloatTensor(y_val).float()\n",
    "print(X_train_tensor.shape)"
   ],
   "metadata": {
    "collapsed": false,
    "ExecuteTime": {
     "end_time": "2023-11-08T14:45:55.390357840Z",
     "start_time": "2023-11-08T14:45:54.040831006Z"
    }
   },
   "id": "17bc49398bf9234b"
  },
  {
   "cell_type": "code",
   "execution_count": 12,
   "outputs": [
    {
     "name": "stdout",
     "output_type": "stream",
     "text": [
      "torch.Size([1, 3])\n"
     ]
    }
   ],
   "source": [
    "batch_size = 4\n",
    "train_loader = torch.utils.data.DataLoader(X_train_tensor, batch_size=batch_size, shuffle=True)\n",
    "\n",
    "for batch in train_loader:\n",
    "    print(batch.shape)\n",
    "    break\n"
   ],
   "metadata": {
    "collapsed": false,
    "ExecuteTime": {
     "end_time": "2023-11-08T14:45:56.214357769Z",
     "start_time": "2023-11-08T14:45:56.204933979Z"
    }
   },
   "id": "cfe51c172f13ea42"
  },
  {
   "cell_type": "code",
   "execution_count": 13,
   "outputs": [
    {
     "name": "stdout",
     "output_type": "stream",
     "text": [
      "torch.Size([1])\n"
     ]
    }
   ],
   "source": [
    "from torch.utils.data import TensorDataset \n",
    "train = TensorDataset(X_train_tensor, y_train_tensor)\n",
    "\n",
    "train_loaderr = torch.utils.data.DataLoader(train, batch_size=batch_size, shuffle=True)\n",
    "\n",
    "for batch in train_loaderr:\n",
    "    print(batch[1][:,1].shape)\n",
    "    break\n"
   ],
   "metadata": {
    "collapsed": false,
    "ExecuteTime": {
     "end_time": "2023-11-08T14:45:57.572951339Z",
     "start_time": "2023-11-08T14:45:57.566951086Z"
    }
   },
   "id": "2ab22b219f2e7385"
  },
  {
   "cell_type": "code",
   "execution_count": 14,
   "outputs": [
    {
     "data": {
      "text/plain": "tensor([  5.6432,  10.0689,  18.1749, 222.5635, 226.2735, 482.8948, 495.4346])"
     },
     "execution_count": 14,
     "metadata": {},
     "output_type": "execute_result"
    }
   ],
   "source": [
    "train[0][1]"
   ],
   "metadata": {
    "collapsed": false,
    "ExecuteTime": {
     "end_time": "2023-11-08T14:45:58.482917735Z",
     "start_time": "2023-11-08T14:45:58.430954769Z"
    }
   },
   "id": "e3df7d8d6b8d59e0"
  },
  {
   "cell_type": "code",
   "execution_count": null,
   "outputs": [],
   "source": [],
   "metadata": {
    "collapsed": false
   },
   "id": "5cfed1ee2d0b1e39"
  }
 ],
 "metadata": {
  "kernelspec": {
   "display_name": "Python 3",
   "language": "python",
   "name": "python3"
  },
  "language_info": {
   "codemirror_mode": {
    "name": "ipython",
    "version": 2
   },
   "file_extension": ".py",
   "mimetype": "text/x-python",
   "name": "python",
   "nbconvert_exporter": "python",
   "pygments_lexer": "ipython2",
   "version": "2.7.6"
  }
 },
 "nbformat": 4,
 "nbformat_minor": 5
}
