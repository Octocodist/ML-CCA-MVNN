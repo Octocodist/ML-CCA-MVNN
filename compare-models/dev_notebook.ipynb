{
 "cells": [
  {
   "cell_type": "code",
   "execution_count": 1,
   "id": "initial_id",
   "metadata": {
    "collapsed": true,
    "ExecuteTime": {
     "end_time": "2023-11-08T14:44:47.675746449Z",
     "start_time": "2023-11-08T14:44:47.590003954Z"
    }
   },
   "outputs": [],
   "source": [
    "import itertools\n",
    "import numpy as np"
   ]
  },
  {
   "cell_type": "code",
   "execution_count": 6,
   "outputs": [],
   "source": [
    "M = [1, 2, 3]\n",
    "bundle_space = list(itertools.product([0, 1], repeat=len(M)))\n"
   ],
   "metadata": {
    "collapsed": false,
    "ExecuteTime": {
     "end_time": "2023-11-07T13:56:58.151070756Z",
     "start_time": "2023-11-07T13:56:58.143593164Z"
    }
   },
   "id": "738869c7e472419c"
  },
  {
   "cell_type": "code",
   "execution_count": 7,
   "outputs": [
    {
     "name": "stdout",
     "output_type": "stream",
     "text": [
      "[(0, 0, 0), (0, 0, 1), (0, 1, 0), (0, 1, 1), (1, 0, 0), (1, 0, 1), (1, 1, 0), (1, 1, 1)]\n"
     ]
    }
   ],
   "source": [
    "print(bundle_space)"
   ],
   "metadata": {
    "collapsed": false,
    "ExecuteTime": {
     "end_time": "2023-11-07T13:56:59.487320310Z",
     "start_time": "2023-11-07T13:56:59.478030056Z"
    }
   },
   "id": "e39d3b76324fbad3"
  },
  {
   "cell_type": "code",
   "execution_count": 12,
   "outputs": [
    {
     "data": {
      "text/plain": "[[0, 0, 0, '!p'],\n [0, 0, 1, '!p'],\n [0, 1, 0, '!p'],\n [0, 1, 1, '!p'],\n [1, 0, 0, '!p'],\n [1, 0, 1, '!p'],\n [1, 1, 0, '!p'],\n [1, 1, 1, '!p']]"
     },
     "execution_count": 12,
     "metadata": {},
     "output_type": "execute_result"
    }
   ],
   "source": [
    "[list(x) + [\"!p\"] for x in bundle_space]"
   ],
   "metadata": {
    "collapsed": false,
    "ExecuteTime": {
     "end_time": "2023-11-07T14:18:32.455034754Z",
     "start_time": "2023-11-07T14:18:32.412178500Z"
    }
   },
   "id": "4c6bb900a84b4472"
  },
  {
   "cell_type": "markdown",
   "source": [],
   "metadata": {
    "collapsed": false
   },
   "id": "945c3cabbfd90115"
  },
  {
   "cell_type": "code",
   "execution_count": 22,
   "outputs": [
    {
     "name": "stdout",
     "output_type": "stream",
     "text": [
      "[[0 0 1]\n",
      " [0 1 1]\n",
      " [1 0 1]]\n"
     ]
    }
   ],
   "source": [
    "k = 3\n",
    "bundle_space = [np.random.choice([0, 1], len(M)) for _ in range(k)]\n",
    "bundle_space = np.unique(np.array(bundle_space), axis=0)\n",
    "print(bundle_space)\n"
   ],
   "metadata": {
    "collapsed": false,
    "ExecuteTime": {
     "end_time": "2023-11-07T14:20:29.858142532Z",
     "start_time": "2023-11-07T14:20:29.849988550Z"
    }
   },
   "id": "bb23017c4d8f2d94"
  },
  {
   "cell_type": "code",
   "execution_count": 3,
   "outputs": [
    {
     "name": "stdout",
     "output_type": "stream",
     "text": [
      "sucess!\n"
     ]
    }
   ],
   "source": [
    "import pickle\n",
    "dataset=\"srvm\"\n",
    "bidder_id=1\n",
    "nbids=25000\n",
    "filepath = \"./dataset_generation/datasets/\"+ str(dataset)+\"/\"+str(dataset)+\"_\"+str(bidder_id)+\"_\"+str(nbids)+\".pkl\"\n",
    "with open(filepath, \"rb\") as file:\n",
    "    dataset = pickle.load(file)\n",
    "#split dataset into train and test\n",
    "if dataset == \"gsvm\":\n",
    "    N = 7\n",
    "    M = 18\n",
    "if dataset == \"lsvm\":\n",
    "    N = 6\n",
    "    M = 18\n",
    "print(\"sucess!\") \n",
    "    \n"
   ],
   "metadata": {
    "collapsed": false,
    "ExecuteTime": {
     "end_time": "2023-11-08T14:45:29.234001502Z",
     "start_time": "2023-11-08T14:45:29.220575760Z"
    }
   },
   "id": "2b96d0c425a571b8"
  },
  {
   "cell_type": "code",
   "execution_count": 4,
   "outputs": [
    {
     "name": "stdout",
     "output_type": "stream",
     "text": [
      "8\n"
     ]
    },
    {
     "data": {
      "text/plain": "8"
     },
     "execution_count": 4,
     "metadata": {},
     "output_type": "execute_result"
    }
   ],
   "source": [
    "print(len(dataset[0]))\n",
    "len(dataset[1])"
   ],
   "metadata": {
    "collapsed": false,
    "ExecuteTime": {
     "end_time": "2023-11-08T14:45:32.125859947Z",
     "start_time": "2023-11-08T14:45:32.118457253Z"
    }
   },
   "id": "6e917ec8f1d3f426"
  },
  {
   "cell_type": "code",
   "execution_count": 5,
   "outputs": [
    {
     "name": "stdout",
     "output_type": "stream",
     "text": [
      "(0, 0, 0)\n"
     ]
    }
   ],
   "source": [
    "print(dataset[0][0])"
   ],
   "metadata": {
    "collapsed": false,
    "ExecuteTime": {
     "end_time": "2023-11-08T14:45:35.969096543Z",
     "start_time": "2023-11-08T14:45:35.964359219Z"
    }
   },
   "id": "b6f4b9d101c9b20b"
  },
  {
   "cell_type": "code",
   "execution_count": 6,
   "outputs": [
    {
     "name": "stdout",
     "output_type": "stream",
     "text": [
      "[0.0, 0.0, 0.0, 0.0, 0.0, 0.0, 0.0]\n"
     ]
    }
   ],
   "source": [
    "print(dataset[1][0])"
   ],
   "metadata": {
    "collapsed": false,
    "ExecuteTime": {
     "end_time": "2023-11-08T14:45:37.169441194Z",
     "start_time": "2023-11-08T14:45:37.155944821Z"
    }
   },
   "id": "15be85c205d34981"
  },
  {
   "cell_type": "code",
   "execution_count": 7,
   "outputs": [
    {
     "ename": "IndexError",
     "evalue": "list index out of range",
     "output_type": "error",
     "traceback": [
      "\u001B[0;31m---------------------------------------------------------------------------\u001B[0m",
      "\u001B[0;31mIndexError\u001B[0m                                Traceback (most recent call last)",
      "Cell \u001B[0;32mIn[7], line 1\u001B[0m\n\u001B[0;32m----> 1\u001B[0m \u001B[38;5;28mprint\u001B[39m(\u001B[43mdataset\u001B[49m\u001B[43m[\u001B[49m\u001B[38;5;241;43m0\u001B[39;49m\u001B[43m]\u001B[49m\u001B[43m[\u001B[49m\u001B[38;5;241;43m100\u001B[39;49m\u001B[43m]\u001B[49m)\n",
      "\u001B[0;31mIndexError\u001B[0m: list index out of range"
     ]
    }
   ],
   "source": [
    "print(dataset[0][100])"
   ],
   "metadata": {
    "collapsed": false,
    "ExecuteTime": {
     "end_time": "2023-11-08T14:45:38.162076805Z",
     "start_time": "2023-11-08T14:45:37.955483576Z"
    }
   },
   "id": "86a67cc9279c0928"
  },
  {
   "cell_type": "code",
   "execution_count": 8,
   "outputs": [
    {
     "ename": "IndexError",
     "evalue": "list index out of range",
     "output_type": "error",
     "traceback": [
      "\u001B[0;31m---------------------------------------------------------------------------\u001B[0m",
      "\u001B[0;31mIndexError\u001B[0m                                Traceback (most recent call last)",
      "Cell \u001B[0;32mIn[8], line 1\u001B[0m\n\u001B[0;32m----> 1\u001B[0m \u001B[38;5;28mprint\u001B[39m(\u001B[43mdataset\u001B[49m\u001B[43m[\u001B[49m\u001B[38;5;241;43m1\u001B[39;49m\u001B[43m]\u001B[49m\u001B[43m[\u001B[49m\u001B[38;5;241;43m100\u001B[39;49m\u001B[43m]\u001B[49m)\n",
      "\u001B[0;31mIndexError\u001B[0m: list index out of range"
     ]
    }
   ],
   "source": [
    "print(dataset[1][100])"
   ],
   "metadata": {
    "collapsed": false,
    "ExecuteTime": {
     "end_time": "2023-11-08T14:45:39.838341180Z",
     "start_time": "2023-11-08T14:45:39.823703193Z"
    }
   },
   "id": "48dc60a93e14270f"
  },
  {
   "cell_type": "code",
   "execution_count": 9,
   "outputs": [],
   "source": [
    "from sklearn.model_selection import train_test_split\n",
    "X = dataset[0]\n",
    "y = dataset[1]\n",
    "train_percent = 0.8\n",
    "X_train, test_and_val_X, y_train, test_and_val_y = train_test_split(X, y, test_size=train_percent, random_state=1)\n",
    "X_val, X_test, y_val, y_test = train_test_split(test_and_val_X,test_and_val_y, test_size=0.5, random_state=1)\n"
   ],
   "metadata": {
    "collapsed": false,
    "ExecuteTime": {
     "end_time": "2023-11-08T14:45:41.294366683Z",
     "start_time": "2023-11-08T14:45:40.853665226Z"
    }
   },
   "id": "cd54d74a038f8627"
  },
  {
   "cell_type": "code",
   "execution_count": 10,
   "outputs": [
    {
     "name": "stdout",
     "output_type": "stream",
     "text": [
      "8\n",
      "3\n",
      "3\n",
      "7\n",
      "1\n"
     ]
    },
    {
     "ename": "AttributeError",
     "evalue": "'list' object has no attribute 'type'",
     "output_type": "error",
     "traceback": [
      "\u001B[0;31m---------------------------------------------------------------------------\u001B[0m",
      "\u001B[0;31mAttributeError\u001B[0m                            Traceback (most recent call last)",
      "Cell \u001B[0;32mIn[10], line 7\u001B[0m\n\u001B[1;32m      5\u001B[0m \u001B[38;5;28mprint\u001B[39m(\u001B[38;5;28mlen\u001B[39m(y_train[\u001B[38;5;241m0\u001B[39m]))\n\u001B[1;32m      6\u001B[0m \u001B[38;5;28mprint\u001B[39m(\u001B[38;5;28mlen\u001B[39m(y_train))\n\u001B[0;32m----> 7\u001B[0m \u001B[38;5;28mprint\u001B[39m(\u001B[38;5;28mlen\u001B[39m(\u001B[43mX_train\u001B[49m\u001B[38;5;241;43m.\u001B[39;49m\u001B[43mtype\u001B[49m))\n",
      "\u001B[0;31mAttributeError\u001B[0m: 'list' object has no attribute 'type'"
     ]
    }
   ],
   "source": [
    "#print(X_train)\n",
    "print(len(X))\n",
    "print(len(X[0]))\n",
    "print(len(X_train[0]))\n",
    "print(len(y_train[0]))\n",
    "print(len(y_train))\n",
    "print(len(X_train.type))\n"
   ],
   "metadata": {
    "collapsed": false,
    "ExecuteTime": {
     "end_time": "2023-11-08T14:45:44.741401929Z",
     "start_time": "2023-11-08T14:45:44.685273813Z"
    }
   },
   "id": "bf76fbf86c71e698"
  },
  {
   "cell_type": "code",
   "execution_count": 11,
   "outputs": [
    {
     "name": "stdout",
     "output_type": "stream",
     "text": [
      "torch.Size([1, 3])\n"
     ]
    }
   ],
   "source": [
    "import torch\n",
    "X_train_tensor = torch.FloatTensor(X_train).float()\n",
    "y_train_tensor = torch.FloatTensor(y_train).float()\n",
    "X_val_tensor = torch.FloatTensor(X_val).float()\n",
    "y_val_tensor = torch.FloatTensor(y_val).float()\n",
    "print(X_train_tensor.shape)"
   ],
   "metadata": {
    "collapsed": false,
    "ExecuteTime": {
     "end_time": "2023-11-08T14:45:55.390357840Z",
     "start_time": "2023-11-08T14:45:54.040831006Z"
    }
   },
   "id": "17bc49398bf9234b"
  },
  {
   "cell_type": "code",
   "execution_count": 12,
   "outputs": [
    {
     "name": "stdout",
     "output_type": "stream",
     "text": [
      "torch.Size([1, 3])\n"
     ]
    }
   ],
   "source": [
    "batch_size = 4\n",
    "train_loader = torch.utils.data.DataLoader(X_train_tensor, batch_size=batch_size, shuffle=True)\n",
    "\n",
    "for batch in train_loader:\n",
    "    print(batch.shape)\n",
    "    break\n"
   ],
   "metadata": {
    "collapsed": false,
    "ExecuteTime": {
     "end_time": "2023-11-08T14:45:56.214357769Z",
     "start_time": "2023-11-08T14:45:56.204933979Z"
    }
   },
   "id": "cfe51c172f13ea42"
  },
  {
   "cell_type": "code",
   "execution_count": 13,
   "outputs": [
    {
     "name": "stdout",
     "output_type": "stream",
     "text": [
      "torch.Size([1])\n"
     ]
    }
   ],
   "source": [
    "from torch.utils.data import TensorDataset \n",
    "train = TensorDataset(X_train_tensor, y_train_tensor)\n",
    "\n",
    "train_loaderr = torch.utils.data.DataLoader(train, batch_size=batch_size, shuffle=True)\n",
    "\n",
    "for batch in train_loaderr:\n",
    "    print(batch[1][:,1].shape)\n",
    "    break\n"
   ],
   "metadata": {
    "collapsed": false,
    "ExecuteTime": {
     "end_time": "2023-11-08T14:45:57.572951339Z",
     "start_time": "2023-11-08T14:45:57.566951086Z"
    }
   },
   "id": "2ab22b219f2e7385"
  },
  {
   "cell_type": "code",
   "execution_count": 14,
   "outputs": [
    {
     "data": {
      "text/plain": "tensor([  5.6432,  10.0689,  18.1749, 222.5635, 226.2735, 482.8948, 495.4346])"
     },
     "execution_count": 14,
     "metadata": {},
     "output_type": "execute_result"
    }
   ],
   "source": [
    "train[0][1]"
   ],
   "metadata": {
    "collapsed": false,
    "ExecuteTime": {
     "end_time": "2023-11-08T14:45:58.482917735Z",
     "start_time": "2023-11-08T14:45:58.430954769Z"
    }
   },
   "id": "e3df7d8d6b8d59e0"
  },
  {
   "cell_type": "code",
   "execution_count": 3,
   "outputs": [
    {
     "ename": "FileNotFoundError",
     "evalue": "[Errno 2] No such file or directory: '/dataset_generation/blogfeedback/blogData_train.csv'",
     "output_type": "error",
     "traceback": [
      "\u001B[0;31m---------------------------------------------------------------------------\u001B[0m",
      "\u001B[0;31mFileNotFoundError\u001B[0m                         Traceback (most recent call last)",
      "Cell \u001B[0;32mIn[3], line 3\u001B[0m\n\u001B[1;32m      1\u001B[0m \u001B[38;5;28;01mimport\u001B[39;00m \u001B[38;5;21;01mpandas\u001B[39;00m \u001B[38;5;28;01mas\u001B[39;00m \u001B[38;5;21;01mpd\u001B[39;00m\n\u001B[0;32m----> 3\u001B[0m train \u001B[38;5;241m=\u001B[39m \u001B[43mpd\u001B[49m\u001B[38;5;241;43m.\u001B[39;49m\u001B[43mread_csv\u001B[49m\u001B[43m(\u001B[49m\u001B[38;5;124;43m\"\u001B[39;49m\u001B[38;5;124;43m/dataset_generation/blogfeedback/blogData_train.csv\u001B[39;49m\u001B[38;5;124;43m\"\u001B[39;49m\u001B[43m,\u001B[49m\u001B[43m \u001B[49m\u001B[43mheader\u001B[49m\u001B[38;5;241;43m=\u001B[39;49m\u001B[38;5;28;43;01mNone\u001B[39;49;00m\u001B[43m)\u001B[49m\n",
      "File \u001B[0;32m~/Documents/Masterthesis/venv/lib64/python3.10/site-packages/pandas/io/parsers/readers.py:948\u001B[0m, in \u001B[0;36mread_csv\u001B[0;34m(filepath_or_buffer, sep, delimiter, header, names, index_col, usecols, dtype, engine, converters, true_values, false_values, skipinitialspace, skiprows, skipfooter, nrows, na_values, keep_default_na, na_filter, verbose, skip_blank_lines, parse_dates, infer_datetime_format, keep_date_col, date_parser, date_format, dayfirst, cache_dates, iterator, chunksize, compression, thousands, decimal, lineterminator, quotechar, quoting, doublequote, escapechar, comment, encoding, encoding_errors, dialect, on_bad_lines, delim_whitespace, low_memory, memory_map, float_precision, storage_options, dtype_backend)\u001B[0m\n\u001B[1;32m    935\u001B[0m kwds_defaults \u001B[38;5;241m=\u001B[39m _refine_defaults_read(\n\u001B[1;32m    936\u001B[0m     dialect,\n\u001B[1;32m    937\u001B[0m     delimiter,\n\u001B[0;32m   (...)\u001B[0m\n\u001B[1;32m    944\u001B[0m     dtype_backend\u001B[38;5;241m=\u001B[39mdtype_backend,\n\u001B[1;32m    945\u001B[0m )\n\u001B[1;32m    946\u001B[0m kwds\u001B[38;5;241m.\u001B[39mupdate(kwds_defaults)\n\u001B[0;32m--> 948\u001B[0m \u001B[38;5;28;01mreturn\u001B[39;00m \u001B[43m_read\u001B[49m\u001B[43m(\u001B[49m\u001B[43mfilepath_or_buffer\u001B[49m\u001B[43m,\u001B[49m\u001B[43m \u001B[49m\u001B[43mkwds\u001B[49m\u001B[43m)\u001B[49m\n",
      "File \u001B[0;32m~/Documents/Masterthesis/venv/lib64/python3.10/site-packages/pandas/io/parsers/readers.py:611\u001B[0m, in \u001B[0;36m_read\u001B[0;34m(filepath_or_buffer, kwds)\u001B[0m\n\u001B[1;32m    608\u001B[0m _validate_names(kwds\u001B[38;5;241m.\u001B[39mget(\u001B[38;5;124m\"\u001B[39m\u001B[38;5;124mnames\u001B[39m\u001B[38;5;124m\"\u001B[39m, \u001B[38;5;28;01mNone\u001B[39;00m))\n\u001B[1;32m    610\u001B[0m \u001B[38;5;66;03m# Create the parser.\u001B[39;00m\n\u001B[0;32m--> 611\u001B[0m parser \u001B[38;5;241m=\u001B[39m \u001B[43mTextFileReader\u001B[49m\u001B[43m(\u001B[49m\u001B[43mfilepath_or_buffer\u001B[49m\u001B[43m,\u001B[49m\u001B[43m \u001B[49m\u001B[38;5;241;43m*\u001B[39;49m\u001B[38;5;241;43m*\u001B[39;49m\u001B[43mkwds\u001B[49m\u001B[43m)\u001B[49m\n\u001B[1;32m    613\u001B[0m \u001B[38;5;28;01mif\u001B[39;00m chunksize \u001B[38;5;129;01mor\u001B[39;00m iterator:\n\u001B[1;32m    614\u001B[0m     \u001B[38;5;28;01mreturn\u001B[39;00m parser\n",
      "File \u001B[0;32m~/Documents/Masterthesis/venv/lib64/python3.10/site-packages/pandas/io/parsers/readers.py:1448\u001B[0m, in \u001B[0;36mTextFileReader.__init__\u001B[0;34m(self, f, engine, **kwds)\u001B[0m\n\u001B[1;32m   1445\u001B[0m     \u001B[38;5;28mself\u001B[39m\u001B[38;5;241m.\u001B[39moptions[\u001B[38;5;124m\"\u001B[39m\u001B[38;5;124mhas_index_names\u001B[39m\u001B[38;5;124m\"\u001B[39m] \u001B[38;5;241m=\u001B[39m kwds[\u001B[38;5;124m\"\u001B[39m\u001B[38;5;124mhas_index_names\u001B[39m\u001B[38;5;124m\"\u001B[39m]\n\u001B[1;32m   1447\u001B[0m \u001B[38;5;28mself\u001B[39m\u001B[38;5;241m.\u001B[39mhandles: IOHandles \u001B[38;5;241m|\u001B[39m \u001B[38;5;28;01mNone\u001B[39;00m \u001B[38;5;241m=\u001B[39m \u001B[38;5;28;01mNone\u001B[39;00m\n\u001B[0;32m-> 1448\u001B[0m \u001B[38;5;28mself\u001B[39m\u001B[38;5;241m.\u001B[39m_engine \u001B[38;5;241m=\u001B[39m \u001B[38;5;28;43mself\u001B[39;49m\u001B[38;5;241;43m.\u001B[39;49m\u001B[43m_make_engine\u001B[49m\u001B[43m(\u001B[49m\u001B[43mf\u001B[49m\u001B[43m,\u001B[49m\u001B[43m \u001B[49m\u001B[38;5;28;43mself\u001B[39;49m\u001B[38;5;241;43m.\u001B[39;49m\u001B[43mengine\u001B[49m\u001B[43m)\u001B[49m\n",
      "File \u001B[0;32m~/Documents/Masterthesis/venv/lib64/python3.10/site-packages/pandas/io/parsers/readers.py:1705\u001B[0m, in \u001B[0;36mTextFileReader._make_engine\u001B[0;34m(self, f, engine)\u001B[0m\n\u001B[1;32m   1703\u001B[0m     \u001B[38;5;28;01mif\u001B[39;00m \u001B[38;5;124m\"\u001B[39m\u001B[38;5;124mb\u001B[39m\u001B[38;5;124m\"\u001B[39m \u001B[38;5;129;01mnot\u001B[39;00m \u001B[38;5;129;01min\u001B[39;00m mode:\n\u001B[1;32m   1704\u001B[0m         mode \u001B[38;5;241m+\u001B[39m\u001B[38;5;241m=\u001B[39m \u001B[38;5;124m\"\u001B[39m\u001B[38;5;124mb\u001B[39m\u001B[38;5;124m\"\u001B[39m\n\u001B[0;32m-> 1705\u001B[0m \u001B[38;5;28mself\u001B[39m\u001B[38;5;241m.\u001B[39mhandles \u001B[38;5;241m=\u001B[39m \u001B[43mget_handle\u001B[49m\u001B[43m(\u001B[49m\n\u001B[1;32m   1706\u001B[0m \u001B[43m    \u001B[49m\u001B[43mf\u001B[49m\u001B[43m,\u001B[49m\n\u001B[1;32m   1707\u001B[0m \u001B[43m    \u001B[49m\u001B[43mmode\u001B[49m\u001B[43m,\u001B[49m\n\u001B[1;32m   1708\u001B[0m \u001B[43m    \u001B[49m\u001B[43mencoding\u001B[49m\u001B[38;5;241;43m=\u001B[39;49m\u001B[38;5;28;43mself\u001B[39;49m\u001B[38;5;241;43m.\u001B[39;49m\u001B[43moptions\u001B[49m\u001B[38;5;241;43m.\u001B[39;49m\u001B[43mget\u001B[49m\u001B[43m(\u001B[49m\u001B[38;5;124;43m\"\u001B[39;49m\u001B[38;5;124;43mencoding\u001B[39;49m\u001B[38;5;124;43m\"\u001B[39;49m\u001B[43m,\u001B[49m\u001B[43m \u001B[49m\u001B[38;5;28;43;01mNone\u001B[39;49;00m\u001B[43m)\u001B[49m\u001B[43m,\u001B[49m\n\u001B[1;32m   1709\u001B[0m \u001B[43m    \u001B[49m\u001B[43mcompression\u001B[49m\u001B[38;5;241;43m=\u001B[39;49m\u001B[38;5;28;43mself\u001B[39;49m\u001B[38;5;241;43m.\u001B[39;49m\u001B[43moptions\u001B[49m\u001B[38;5;241;43m.\u001B[39;49m\u001B[43mget\u001B[49m\u001B[43m(\u001B[49m\u001B[38;5;124;43m\"\u001B[39;49m\u001B[38;5;124;43mcompression\u001B[39;49m\u001B[38;5;124;43m\"\u001B[39;49m\u001B[43m,\u001B[49m\u001B[43m \u001B[49m\u001B[38;5;28;43;01mNone\u001B[39;49;00m\u001B[43m)\u001B[49m\u001B[43m,\u001B[49m\n\u001B[1;32m   1710\u001B[0m \u001B[43m    \u001B[49m\u001B[43mmemory_map\u001B[49m\u001B[38;5;241;43m=\u001B[39;49m\u001B[38;5;28;43mself\u001B[39;49m\u001B[38;5;241;43m.\u001B[39;49m\u001B[43moptions\u001B[49m\u001B[38;5;241;43m.\u001B[39;49m\u001B[43mget\u001B[49m\u001B[43m(\u001B[49m\u001B[38;5;124;43m\"\u001B[39;49m\u001B[38;5;124;43mmemory_map\u001B[39;49m\u001B[38;5;124;43m\"\u001B[39;49m\u001B[43m,\u001B[49m\u001B[43m \u001B[49m\u001B[38;5;28;43;01mFalse\u001B[39;49;00m\u001B[43m)\u001B[49m\u001B[43m,\u001B[49m\n\u001B[1;32m   1711\u001B[0m \u001B[43m    \u001B[49m\u001B[43mis_text\u001B[49m\u001B[38;5;241;43m=\u001B[39;49m\u001B[43mis_text\u001B[49m\u001B[43m,\u001B[49m\n\u001B[1;32m   1712\u001B[0m \u001B[43m    \u001B[49m\u001B[43merrors\u001B[49m\u001B[38;5;241;43m=\u001B[39;49m\u001B[38;5;28;43mself\u001B[39;49m\u001B[38;5;241;43m.\u001B[39;49m\u001B[43moptions\u001B[49m\u001B[38;5;241;43m.\u001B[39;49m\u001B[43mget\u001B[49m\u001B[43m(\u001B[49m\u001B[38;5;124;43m\"\u001B[39;49m\u001B[38;5;124;43mencoding_errors\u001B[39;49m\u001B[38;5;124;43m\"\u001B[39;49m\u001B[43m,\u001B[49m\u001B[43m \u001B[49m\u001B[38;5;124;43m\"\u001B[39;49m\u001B[38;5;124;43mstrict\u001B[39;49m\u001B[38;5;124;43m\"\u001B[39;49m\u001B[43m)\u001B[49m\u001B[43m,\u001B[49m\n\u001B[1;32m   1713\u001B[0m \u001B[43m    \u001B[49m\u001B[43mstorage_options\u001B[49m\u001B[38;5;241;43m=\u001B[39;49m\u001B[38;5;28;43mself\u001B[39;49m\u001B[38;5;241;43m.\u001B[39;49m\u001B[43moptions\u001B[49m\u001B[38;5;241;43m.\u001B[39;49m\u001B[43mget\u001B[49m\u001B[43m(\u001B[49m\u001B[38;5;124;43m\"\u001B[39;49m\u001B[38;5;124;43mstorage_options\u001B[39;49m\u001B[38;5;124;43m\"\u001B[39;49m\u001B[43m,\u001B[49m\u001B[43m \u001B[49m\u001B[38;5;28;43;01mNone\u001B[39;49;00m\u001B[43m)\u001B[49m\u001B[43m,\u001B[49m\n\u001B[1;32m   1714\u001B[0m \u001B[43m\u001B[49m\u001B[43m)\u001B[49m\n\u001B[1;32m   1715\u001B[0m \u001B[38;5;28;01massert\u001B[39;00m \u001B[38;5;28mself\u001B[39m\u001B[38;5;241m.\u001B[39mhandles \u001B[38;5;129;01mis\u001B[39;00m \u001B[38;5;129;01mnot\u001B[39;00m \u001B[38;5;28;01mNone\u001B[39;00m\n\u001B[1;32m   1716\u001B[0m f \u001B[38;5;241m=\u001B[39m \u001B[38;5;28mself\u001B[39m\u001B[38;5;241m.\u001B[39mhandles\u001B[38;5;241m.\u001B[39mhandle\n",
      "File \u001B[0;32m~/Documents/Masterthesis/venv/lib64/python3.10/site-packages/pandas/io/common.py:863\u001B[0m, in \u001B[0;36mget_handle\u001B[0;34m(path_or_buf, mode, encoding, compression, memory_map, is_text, errors, storage_options)\u001B[0m\n\u001B[1;32m    858\u001B[0m \u001B[38;5;28;01melif\u001B[39;00m \u001B[38;5;28misinstance\u001B[39m(handle, \u001B[38;5;28mstr\u001B[39m):\n\u001B[1;32m    859\u001B[0m     \u001B[38;5;66;03m# Check whether the filename is to be opened in binary mode.\u001B[39;00m\n\u001B[1;32m    860\u001B[0m     \u001B[38;5;66;03m# Binary mode does not support 'encoding' and 'newline'.\u001B[39;00m\n\u001B[1;32m    861\u001B[0m     \u001B[38;5;28;01mif\u001B[39;00m ioargs\u001B[38;5;241m.\u001B[39mencoding \u001B[38;5;129;01mand\u001B[39;00m \u001B[38;5;124m\"\u001B[39m\u001B[38;5;124mb\u001B[39m\u001B[38;5;124m\"\u001B[39m \u001B[38;5;129;01mnot\u001B[39;00m \u001B[38;5;129;01min\u001B[39;00m ioargs\u001B[38;5;241m.\u001B[39mmode:\n\u001B[1;32m    862\u001B[0m         \u001B[38;5;66;03m# Encoding\u001B[39;00m\n\u001B[0;32m--> 863\u001B[0m         handle \u001B[38;5;241m=\u001B[39m \u001B[38;5;28;43mopen\u001B[39;49m\u001B[43m(\u001B[49m\n\u001B[1;32m    864\u001B[0m \u001B[43m            \u001B[49m\u001B[43mhandle\u001B[49m\u001B[43m,\u001B[49m\n\u001B[1;32m    865\u001B[0m \u001B[43m            \u001B[49m\u001B[43mioargs\u001B[49m\u001B[38;5;241;43m.\u001B[39;49m\u001B[43mmode\u001B[49m\u001B[43m,\u001B[49m\n\u001B[1;32m    866\u001B[0m \u001B[43m            \u001B[49m\u001B[43mencoding\u001B[49m\u001B[38;5;241;43m=\u001B[39;49m\u001B[43mioargs\u001B[49m\u001B[38;5;241;43m.\u001B[39;49m\u001B[43mencoding\u001B[49m\u001B[43m,\u001B[49m\n\u001B[1;32m    867\u001B[0m \u001B[43m            \u001B[49m\u001B[43merrors\u001B[49m\u001B[38;5;241;43m=\u001B[39;49m\u001B[43merrors\u001B[49m\u001B[43m,\u001B[49m\n\u001B[1;32m    868\u001B[0m \u001B[43m            \u001B[49m\u001B[43mnewline\u001B[49m\u001B[38;5;241;43m=\u001B[39;49m\u001B[38;5;124;43m\"\u001B[39;49m\u001B[38;5;124;43m\"\u001B[39;49m\u001B[43m,\u001B[49m\n\u001B[1;32m    869\u001B[0m \u001B[43m        \u001B[49m\u001B[43m)\u001B[49m\n\u001B[1;32m    870\u001B[0m     \u001B[38;5;28;01melse\u001B[39;00m:\n\u001B[1;32m    871\u001B[0m         \u001B[38;5;66;03m# Binary mode\u001B[39;00m\n\u001B[1;32m    872\u001B[0m         handle \u001B[38;5;241m=\u001B[39m \u001B[38;5;28mopen\u001B[39m(handle, ioargs\u001B[38;5;241m.\u001B[39mmode)\n",
      "\u001B[0;31mFileNotFoundError\u001B[0m: [Errno 2] No such file or directory: '/dataset_generation/blogfeedback/blogData_train.csv'"
     ]
    }
   ],
   "source": [
    "import pandas as pd\n",
    "\n",
    "train = pd.read_csv(\"/dataset_generation/blogfeedback/blogData_train.csv\", header=None)\n",
    "\n"
   ],
   "metadata": {
    "collapsed": false,
    "ExecuteTime": {
     "end_time": "2024-01-15T17:41:44.797384901Z",
     "start_time": "2024-01-15T17:41:44.669937554Z"
    }
   },
   "id": "5cfed1ee2d0b1e39"
  },
  {
   "cell_type": "code",
   "outputs": [],
   "source": [
    "train.head()"
   ],
   "metadata": {
    "collapsed": false,
    "ExecuteTime": {
     "end_time": "2024-01-05T14:35:44.642675965Z",
     "start_time": "2024-01-05T14:35:44.642448352Z"
    }
   },
   "id": "10647975f58459e2"
  },
  {
   "cell_type": "code",
   "outputs": [],
   "source": [
    "# access part of dataframe in pandas \n",
    "train.iloc[0:2, 0:2]\n",
    "# copy part of dataframe to a new dataframe \n",
    "train2 = train.iloc[0:2, 0:2].copy()\n",
    "\n",
    "# copy selection of columns to a new dataframe and remove from original \n",
    "train3 = train.iloc[0:2, 0:2].copy()\n",
    "train.drop(train.columns[[0, 1]], axis=1, inplace=True)\n",
    "train.head()"
   ],
   "metadata": {
    "collapsed": false
   },
   "id": "a23e8d9c075a0a06"
  },
  {
   "cell_type": "code",
   "outputs": [],
   "source": [
    "# save dataset with pickle \n",
    "import pickle\n",
    "with open(\"train.pkl\", \"wb\") as file:\n",
    "    pickle.dump(train, file)"
   ],
   "metadata": {
    "collapsed": false
   },
   "id": "232e5df08ff97b5d"
  },
  {
   "cell_type": "code",
   "outputs": [
    {
     "name": "stdout",
     "output_type": "stream",
     "text": [
      "/home/felix/Documents/Masterthesis/ML-CCA-MVNN/compare-models\n"
     ]
    }
   ],
   "source": [
    "import pandas as pd\n",
    "import os \n",
    "print(os.getcwd())\n",
    "\n",
    "train = pd.read_csv(\"./dataset_generation/compas/compas-scores-raw.csv\")\n",
    "\n"
   ],
   "metadata": {
    "collapsed": false,
    "ExecuteTime": {
     "end_time": "2024-01-15T17:42:43.067623212Z",
     "start_time": "2024-01-15T17:42:42.787378917Z"
    }
   },
   "id": "b220586a2b323161",
   "execution_count": 6
  },
  {
   "cell_type": "code",
   "outputs": [
    {
     "data": {
      "text/plain": "       Person_ID  AssessmentID  Case_ID Agency_Text LastName FirstName  \\\n0          50844         57167    51950    PRETRIAL   Fisher     Kevin   \n1          50844         57167    51950    PRETRIAL   Fisher     Kevin   \n2          50844         57167    51950    PRETRIAL   Fisher     Kevin   \n3          50848         57174    51956    PRETRIAL  KENDALL     KEVIN   \n4          50848         57174    51956    PRETRIAL  KENDALL     KEVIN   \n...          ...           ...      ...         ...      ...       ...   \n60838      65667         79665    72038   Probation     West     James   \n60839      65667         79665    72038   Probation     West     James   \n60840      68603         79669    72042    PRETRIAL     Ryan   Michael   \n60841      68603         79669    72042    PRETRIAL     Ryan   Michael   \n60842      68603         79669    72042    PRETRIAL     Ryan   Michael   \n\n      MiddleName Sex_Code_Text  Ethnic_Code_Text DateOfBirth  ...  \\\n0            NaN          Male         Caucasian    12/05/92  ...   \n1            NaN          Male         Caucasian    12/05/92  ...   \n2            NaN          Male         Caucasian    12/05/92  ...   \n3            NaN          Male         Caucasian    09/16/84  ...   \n4            NaN          Male         Caucasian    09/16/84  ...   \n...          ...           ...               ...         ...  ...   \n60838        NaN          Male  African-American    06/21/64  ...   \n60839        NaN          Male  African-American    06/21/64  ...   \n60840        NaN          Male         Caucasian    02/06/85  ...   \n60841        NaN          Male         Caucasian    02/06/85  ...   \n60842        NaN          Male         Caucasian    02/06/85  ...   \n\n       RecSupervisionLevel             RecSupervisionLevelText Scale_ID  \\\n0                        1                                 Low        7   \n1                        1                                 Low        8   \n2                        1                                 Low       18   \n3                        1                                 Low        7   \n4                        1                                 Low        8   \n...                    ...                                 ...      ...   \n60838                    3  Medium with Override Consideration        8   \n60839                    3  Medium with Override Consideration       18   \n60840                    1                                 Low        7   \n60841                    1                                 Low        8   \n60842                    1                                 Low       18   \n\n                     DisplayText RawScore DecileScore ScoreText  \\\n0               Risk of Violence    -2.08           4       Low   \n1             Risk of Recidivism    -1.06           2       Low   \n2      Risk of Failure to Appear    15.00           1       Low   \n3               Risk of Violence    -2.84           2       Low   \n4             Risk of Recidivism    -1.50           1       Low   \n...                          ...      ...         ...       ...   \n60838         Risk of Recidivism     0.16           8      High   \n60839  Risk of Failure to Appear    35.00          10      High   \n60840           Risk of Violence    -2.75           2       Low   \n60841         Risk of Recidivism    -0.34           5    Medium   \n60842  Risk of Failure to Appear    16.00           2       Low   \n\n      AssessmentType  IsCompleted IsDeleted  \n0                New            1         0  \n1                New            1         0  \n2                New            1         0  \n3                New            1         0  \n4                New            1         0  \n...              ...          ...       ...  \n60838            New            1         0  \n60839            New            1         0  \n60840            New            1         0  \n60841            New            1         0  \n60842            New            1         0  \n\n[60843 rows x 28 columns]",
      "text/html": "<div>\n<style scoped>\n    .dataframe tbody tr th:only-of-type {\n        vertical-align: middle;\n    }\n\n    .dataframe tbody tr th {\n        vertical-align: top;\n    }\n\n    .dataframe thead th {\n        text-align: right;\n    }\n</style>\n<table border=\"1\" class=\"dataframe\">\n  <thead>\n    <tr style=\"text-align: right;\">\n      <th></th>\n      <th>Person_ID</th>\n      <th>AssessmentID</th>\n      <th>Case_ID</th>\n      <th>Agency_Text</th>\n      <th>LastName</th>\n      <th>FirstName</th>\n      <th>MiddleName</th>\n      <th>Sex_Code_Text</th>\n      <th>Ethnic_Code_Text</th>\n      <th>DateOfBirth</th>\n      <th>...</th>\n      <th>RecSupervisionLevel</th>\n      <th>RecSupervisionLevelText</th>\n      <th>Scale_ID</th>\n      <th>DisplayText</th>\n      <th>RawScore</th>\n      <th>DecileScore</th>\n      <th>ScoreText</th>\n      <th>AssessmentType</th>\n      <th>IsCompleted</th>\n      <th>IsDeleted</th>\n    </tr>\n  </thead>\n  <tbody>\n    <tr>\n      <th>0</th>\n      <td>50844</td>\n      <td>57167</td>\n      <td>51950</td>\n      <td>PRETRIAL</td>\n      <td>Fisher</td>\n      <td>Kevin</td>\n      <td>NaN</td>\n      <td>Male</td>\n      <td>Caucasian</td>\n      <td>12/05/92</td>\n      <td>...</td>\n      <td>1</td>\n      <td>Low</td>\n      <td>7</td>\n      <td>Risk of Violence</td>\n      <td>-2.08</td>\n      <td>4</td>\n      <td>Low</td>\n      <td>New</td>\n      <td>1</td>\n      <td>0</td>\n    </tr>\n    <tr>\n      <th>1</th>\n      <td>50844</td>\n      <td>57167</td>\n      <td>51950</td>\n      <td>PRETRIAL</td>\n      <td>Fisher</td>\n      <td>Kevin</td>\n      <td>NaN</td>\n      <td>Male</td>\n      <td>Caucasian</td>\n      <td>12/05/92</td>\n      <td>...</td>\n      <td>1</td>\n      <td>Low</td>\n      <td>8</td>\n      <td>Risk of Recidivism</td>\n      <td>-1.06</td>\n      <td>2</td>\n      <td>Low</td>\n      <td>New</td>\n      <td>1</td>\n      <td>0</td>\n    </tr>\n    <tr>\n      <th>2</th>\n      <td>50844</td>\n      <td>57167</td>\n      <td>51950</td>\n      <td>PRETRIAL</td>\n      <td>Fisher</td>\n      <td>Kevin</td>\n      <td>NaN</td>\n      <td>Male</td>\n      <td>Caucasian</td>\n      <td>12/05/92</td>\n      <td>...</td>\n      <td>1</td>\n      <td>Low</td>\n      <td>18</td>\n      <td>Risk of Failure to Appear</td>\n      <td>15.00</td>\n      <td>1</td>\n      <td>Low</td>\n      <td>New</td>\n      <td>1</td>\n      <td>0</td>\n    </tr>\n    <tr>\n      <th>3</th>\n      <td>50848</td>\n      <td>57174</td>\n      <td>51956</td>\n      <td>PRETRIAL</td>\n      <td>KENDALL</td>\n      <td>KEVIN</td>\n      <td>NaN</td>\n      <td>Male</td>\n      <td>Caucasian</td>\n      <td>09/16/84</td>\n      <td>...</td>\n      <td>1</td>\n      <td>Low</td>\n      <td>7</td>\n      <td>Risk of Violence</td>\n      <td>-2.84</td>\n      <td>2</td>\n      <td>Low</td>\n      <td>New</td>\n      <td>1</td>\n      <td>0</td>\n    </tr>\n    <tr>\n      <th>4</th>\n      <td>50848</td>\n      <td>57174</td>\n      <td>51956</td>\n      <td>PRETRIAL</td>\n      <td>KENDALL</td>\n      <td>KEVIN</td>\n      <td>NaN</td>\n      <td>Male</td>\n      <td>Caucasian</td>\n      <td>09/16/84</td>\n      <td>...</td>\n      <td>1</td>\n      <td>Low</td>\n      <td>8</td>\n      <td>Risk of Recidivism</td>\n      <td>-1.50</td>\n      <td>1</td>\n      <td>Low</td>\n      <td>New</td>\n      <td>1</td>\n      <td>0</td>\n    </tr>\n    <tr>\n      <th>...</th>\n      <td>...</td>\n      <td>...</td>\n      <td>...</td>\n      <td>...</td>\n      <td>...</td>\n      <td>...</td>\n      <td>...</td>\n      <td>...</td>\n      <td>...</td>\n      <td>...</td>\n      <td>...</td>\n      <td>...</td>\n      <td>...</td>\n      <td>...</td>\n      <td>...</td>\n      <td>...</td>\n      <td>...</td>\n      <td>...</td>\n      <td>...</td>\n      <td>...</td>\n      <td>...</td>\n    </tr>\n    <tr>\n      <th>60838</th>\n      <td>65667</td>\n      <td>79665</td>\n      <td>72038</td>\n      <td>Probation</td>\n      <td>West</td>\n      <td>James</td>\n      <td>NaN</td>\n      <td>Male</td>\n      <td>African-American</td>\n      <td>06/21/64</td>\n      <td>...</td>\n      <td>3</td>\n      <td>Medium with Override Consideration</td>\n      <td>8</td>\n      <td>Risk of Recidivism</td>\n      <td>0.16</td>\n      <td>8</td>\n      <td>High</td>\n      <td>New</td>\n      <td>1</td>\n      <td>0</td>\n    </tr>\n    <tr>\n      <th>60839</th>\n      <td>65667</td>\n      <td>79665</td>\n      <td>72038</td>\n      <td>Probation</td>\n      <td>West</td>\n      <td>James</td>\n      <td>NaN</td>\n      <td>Male</td>\n      <td>African-American</td>\n      <td>06/21/64</td>\n      <td>...</td>\n      <td>3</td>\n      <td>Medium with Override Consideration</td>\n      <td>18</td>\n      <td>Risk of Failure to Appear</td>\n      <td>35.00</td>\n      <td>10</td>\n      <td>High</td>\n      <td>New</td>\n      <td>1</td>\n      <td>0</td>\n    </tr>\n    <tr>\n      <th>60840</th>\n      <td>68603</td>\n      <td>79669</td>\n      <td>72042</td>\n      <td>PRETRIAL</td>\n      <td>Ryan</td>\n      <td>Michael</td>\n      <td>NaN</td>\n      <td>Male</td>\n      <td>Caucasian</td>\n      <td>02/06/85</td>\n      <td>...</td>\n      <td>1</td>\n      <td>Low</td>\n      <td>7</td>\n      <td>Risk of Violence</td>\n      <td>-2.75</td>\n      <td>2</td>\n      <td>Low</td>\n      <td>New</td>\n      <td>1</td>\n      <td>0</td>\n    </tr>\n    <tr>\n      <th>60841</th>\n      <td>68603</td>\n      <td>79669</td>\n      <td>72042</td>\n      <td>PRETRIAL</td>\n      <td>Ryan</td>\n      <td>Michael</td>\n      <td>NaN</td>\n      <td>Male</td>\n      <td>Caucasian</td>\n      <td>02/06/85</td>\n      <td>...</td>\n      <td>1</td>\n      <td>Low</td>\n      <td>8</td>\n      <td>Risk of Recidivism</td>\n      <td>-0.34</td>\n      <td>5</td>\n      <td>Medium</td>\n      <td>New</td>\n      <td>1</td>\n      <td>0</td>\n    </tr>\n    <tr>\n      <th>60842</th>\n      <td>68603</td>\n      <td>79669</td>\n      <td>72042</td>\n      <td>PRETRIAL</td>\n      <td>Ryan</td>\n      <td>Michael</td>\n      <td>NaN</td>\n      <td>Male</td>\n      <td>Caucasian</td>\n      <td>02/06/85</td>\n      <td>...</td>\n      <td>1</td>\n      <td>Low</td>\n      <td>18</td>\n      <td>Risk of Failure to Appear</td>\n      <td>16.00</td>\n      <td>2</td>\n      <td>Low</td>\n      <td>New</td>\n      <td>1</td>\n      <td>0</td>\n    </tr>\n  </tbody>\n</table>\n<p>60843 rows × 28 columns</p>\n</div>"
     },
     "execution_count": 8,
     "metadata": {},
     "output_type": "execute_result"
    }
   ],
   "source": [
    "train "
   ],
   "metadata": {
    "collapsed": false,
    "ExecuteTime": {
     "end_time": "2024-01-15T17:43:33.643740394Z",
     "start_time": "2024-01-15T17:43:33.589346058Z"
    }
   },
   "id": "bdb8eb2ead7d2bb4",
   "execution_count": 8
  },
  {
   "cell_type": "code",
   "outputs": [],
   "source": [],
   "metadata": {
    "collapsed": false
   },
   "id": "8ab9520eb8c63a22"
  }
 ],
 "metadata": {
  "kernelspec": {
   "display_name": "Python 3",
   "language": "python",
   "name": "python3"
  },
  "language_info": {
   "codemirror_mode": {
    "name": "ipython",
    "version": 2
   },
   "file_extension": ".py",
   "mimetype": "text/x-python",
   "name": "python",
   "nbconvert_exporter": "python",
   "pygments_lexer": "ipython2",
   "version": "2.7.6"
  }
 },
 "nbformat": 4,
 "nbformat_minor": 5
}
